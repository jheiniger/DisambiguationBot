{
 "cells": [
  {
   "cell_type": "code",
   "execution_count": 1,
   "metadata": {},
   "outputs": [],
   "source": [
    "import json\n",
    "import gzip\n",
    "import numpy as np\n",
    "import pandas as pd"
   ]
  },
  {
   "cell_type": "markdown",
   "metadata": {},
   "source": [
    "### Load all pages"
   ]
  },
  {
   "cell_type": "code",
   "execution_count": 2,
   "metadata": {},
   "outputs": [],
   "source": [
    "with gzip.open('all_pages.json.gz', 'rt', encoding='UTF-8') as zipfile:\n",
    "    data = json.load(zipfile)"
   ]
  },
  {
   "cell_type": "markdown",
   "metadata": {},
   "source": [
    "### Extract all titles without words in brackets"
   ]
  },
  {
   "cell_type": "code",
   "execution_count": 3,
   "metadata": {},
   "outputs": [],
   "source": [
    "def newtitles(data):\n",
    "    new_titles = []\n",
    "\n",
    "    for i in range(0, len(data)):\n",
    "        \n",
    "        title = data[i]['title']\n",
    "        new_title = ''\n",
    "        word = ''\n",
    "        j = 0\n",
    "        braket = False \n",
    "        \n",
    "        while j < len(title):\n",
    "            char = title[j]\n",
    "            \n",
    "            if char == ')': \n",
    "                braket = False\n",
    "                word = ''\n",
    "            \n",
    "            if char == '(':\n",
    "                braket = True\n",
    "                if len(word) > 2:\n",
    "                    new_title = new_title + word.lower() + ' '\n",
    "                    word = ''\n",
    "                    \n",
    "                \n",
    "            elif braket: braket = True\n",
    "                \n",
    "            elif char.isalpha(): word = word + char\n",
    "                \n",
    "            elif char == ' ' or char == '-' or char == '\\'':\n",
    "                if len(word) > 1: \n",
    "                    new_title = new_title + word.lower() + ' '\n",
    "                word = ''\n",
    "                \n",
    "            j = j + 1\n",
    "            \n",
    "        if len(word) > 2:\n",
    "            new_title = new_title + word.lower() + ' '\n",
    "            \n",
    "        new_titles.append(new_title)\n",
    "    \n",
    "    return new_titles"
   ]
  },
  {
   "cell_type": "code",
   "execution_count": 4,
   "metadata": {},
   "outputs": [],
   "source": [
    "newT = newtitles(data)"
   ]
  },
  {
   "cell_type": "markdown",
   "metadata": {},
   "source": [
    "### Creation of names (first + last word or single word)"
   ]
  },
  {
   "cell_type": "code",
   "execution_count": 5,
   "metadata": {},
   "outputs": [],
   "source": [
    "def names(data):\n",
    "    names = []\n",
    "    for i in range(len(data)):\n",
    "        name = []\n",
    "        word = ''\n",
    "        for j in range(len(data[i])):\n",
    "            char = data[i][j]\n",
    "            if char == ' ':\n",
    "                name.append(word)\n",
    "                word = ''\n",
    "            else: word = word + char\n",
    "        if len(name) > 1:\n",
    "            names.append(name[0] + ' '+ name[-1])\n",
    "        elif len(name) == 1:\n",
    "            names.append(name[0])\n",
    "        else: names.append('')\n",
    "\n",
    "    return names    "
   ]
  },
  {
   "cell_type": "code",
   "execution_count": 6,
   "metadata": {},
   "outputs": [],
   "source": [
    "names = names(newT)"
   ]
  },
  {
   "cell_type": "markdown",
   "metadata": {},
   "source": [
    "### Creation of data Frame with new titles"
   ]
  },
  {
   "cell_type": "code",
   "execution_count": 7,
   "metadata": {},
   "outputs": [],
   "source": [
    "dF = pd.DataFrame(data)\n",
    "dF['new_title'] = newT\n",
    "dF['name'] = names"
   ]
  },
  {
   "cell_type": "markdown",
   "metadata": {},
   "source": [
    "### Find all names that are dublicated"
   ]
  },
  {
   "cell_type": "code",
   "execution_count": 8,
   "metadata": {},
   "outputs": [],
   "source": [
    "def dublications(dF, col):\n",
    "    #delete rows with new_title = ''\n",
    "    cleaned_dF = dF[dF[col] != '']\n",
    "    #search dublications in new_title and keep those rows\n",
    "    dubli_dF = cleaned_dF[cleaned_dF.duplicated(subset = col, keep = False)]\n",
    "    #return the dubli_dF which is sorted by new_title\n",
    "    return dubli_dF.sort_values(by = col)"
   ]
  },
  {
   "cell_type": "code",
   "execution_count": 9,
   "metadata": {},
   "outputs": [],
   "source": [
    "name_dub_dF = dublications(dF, 'name')"
   ]
  },
  {
   "cell_type": "markdown",
   "metadata": {},
   "source": [
    "### Make list of homonyms and disambiguation page names"
   ]
  },
  {
   "cell_type": "code",
   "execution_count": 33,
   "metadata": {},
   "outputs": [],
   "source": [
    "def homonyms(dF, col):\n",
    "    h_list = []\n",
    "    homonyms = []\n",
    "    dis_names = [dF.iloc[0]['name']]\n",
    "    homonym = dF.iloc[0][col]\n",
    "    for i in range(len(dF)):\n",
    "        if dF.iloc[i][col] == homonym:\n",
    "            homonyms.append(dF.iloc[i]['title'])\n",
    "        else:\n",
    "            h_list.append(homonyms)\n",
    "            homonyms = [dF.iloc[i]['title']]\n",
    "            dis_names.append(dF.iloc[i]['name'])\n",
    "            homonym = dF.iloc[i][col]\n",
    "    h_list.append(homonyms)\n",
    "    \n",
    "    return h_list, dis_names"
   ]
  },
  {
   "cell_type": "code",
   "execution_count": 34,
   "metadata": {},
   "outputs": [],
   "source": [
    "name_homonomys, dis_names = homonyms(name_dub_dF, 'name')"
   ]
  },
  {
   "cell_type": "code",
   "execution_count": 47,
   "metadata": {},
   "outputs": [],
   "source": [
    "filearray_names = np.array(name_homonomys, dtype = \"object\")\n",
    "np.save('name_homonomys.npy', filearray_names)\n",
    "filearray_dis = np.array(dis_names, dtype = \"object\")\n",
    "np.save('disambiguation_names.npy', filearray_dis)"
   ]
  },
  {
   "cell_type": "code",
   "execution_count": null,
   "metadata": {},
   "outputs": [],
   "source": []
  }
 ],
 "metadata": {
  "kernelspec": {
   "display_name": "Python 3",
   "language": "python",
   "name": "python3"
  },
  "language_info": {
   "codemirror_mode": {
    "name": "ipython",
    "version": 3
   },
   "file_extension": ".py",
   "mimetype": "text/x-python",
   "name": "python",
   "nbconvert_exporter": "python",
   "pygments_lexer": "ipython3",
   "version": "3.7.0"
  }
 },
 "nbformat": 4,
 "nbformat_minor": 4
}
