{
 "cells": [
  {
   "cell_type": "code",
   "execution_count": 1,
   "metadata": {},
   "outputs": [],
   "source": [
    "import json\n",
    "import gzip\n",
    "import numpy as np\n",
    "import pandas as pd"
   ]
  },
  {
   "cell_type": "markdown",
   "metadata": {},
   "source": [
    "### Load all pages"
   ]
  },
  {
   "cell_type": "code",
   "execution_count": 2,
   "metadata": {},
   "outputs": [],
   "source": [
    "with gzip.open('all_pages.json.gz', 'rt', encoding='UTF-8') as zipfile:\n",
    "    data = json.load(zipfile)"
   ]
  },
  {
   "cell_type": "markdown",
   "metadata": {},
   "source": [
    "### Extract all titles without words in brackets"
   ]
  },
  {
   "cell_type": "code",
   "execution_count": 3,
   "metadata": {},
   "outputs": [],
   "source": [
    "def newtitles(data):\n",
    "    new_titles = []\n",
    "\n",
    "    for i in range(0, len(data)):\n",
    "        \n",
    "        title = data[i]['title']\n",
    "        new_title = ''\n",
    "        word = ''\n",
    "        j = 0\n",
    "        braket = False \n",
    "        \n",
    "        while j < len(title):\n",
    "            char = title[j]\n",
    "            \n",
    "            if char == ')': \n",
    "                braket = False\n",
    "                word = ''\n",
    "            \n",
    "            if char == '(':\n",
    "                braket = True\n",
    "                if len(word) > 2:\n",
    "                    new_title = new_title + word.lower() + ' '\n",
    "                    word = ''\n",
    "                    \n",
    "                \n",
    "            elif braket: braket = True\n",
    "                \n",
    "            elif char.isalpha(): word = word + char\n",
    "                \n",
    "            elif char == ' ' or char == '-' or char == '\\'':\n",
    "                if len(word) > 1: \n",
    "                    new_title = new_title + word.lower() + ' '\n",
    "                word = ''\n",
    "                \n",
    "            j = j + 1\n",
    "            \n",
    "        if len(word) > 2:\n",
    "            new_title = new_title + word.lower() + ' '\n",
    "            \n",
    "        new_titles.append(new_title)\n",
    "    \n",
    "    return new_titles"
   ]
  },
  {
   "cell_type": "code",
   "execution_count": 4,
   "metadata": {},
   "outputs": [],
   "source": [
    "newT = newtitles(data)"
   ]
  },
  {
   "cell_type": "markdown",
   "metadata": {},
   "source": [
    "### Creation of names (first + last word)"
   ]
  },
  {
   "cell_type": "code",
   "execution_count": 5,
   "metadata": {},
   "outputs": [],
   "source": [
    "def names(data):\n",
    "    names = []\n",
    "    for i in range(len(data)):\n",
    "        name = []\n",
    "        word = ''\n",
    "        for j in range(len(data[i])):\n",
    "            char = data[i][j]\n",
    "            if char == ' ':\n",
    "                name.append(word)\n",
    "                word = ''\n",
    "            else: word = word + char\n",
    "        if len(name) > 1:\n",
    "            names.append(name[0] + ' '+ name[-1])\n",
    "        else: names.append('')\n",
    "\n",
    "    return names    "
   ]
  },
  {
   "cell_type": "code",
   "execution_count": 6,
   "metadata": {},
   "outputs": [],
   "source": [
    "names = names(newT)"
   ]
  },
  {
   "cell_type": "markdown",
   "metadata": {},
   "source": [
    "### Creation of data Frame with new titles"
   ]
  },
  {
   "cell_type": "code",
   "execution_count": 7,
   "metadata": {},
   "outputs": [],
   "source": [
    "dF = pd.DataFrame(data)\n",
    "dF['new_title'] = newT\n",
    "dF['name'] = names"
   ]
  },
  {
   "cell_type": "markdown",
   "metadata": {},
   "source": [
    "### Find all new_titles and names that are dublicated"
   ]
  },
  {
   "cell_type": "code",
   "execution_count": 14,
   "metadata": {},
   "outputs": [],
   "source": [
    "def dublications(dF, col):\n",
    "    #delete rows with new_title = ''\n",
    "    cleaned_dF = dF[dF[col] != '']\n",
    "    #search dublications in new_title and keep those rows\n",
    "    dubli_dF = cleaned_dF[cleaned_dF.duplicated(subset = col, keep = False)]\n",
    "    #return the dubli_dF which is sorted by new_title\n",
    "    return dubli_dF.sort_values(by = col)"
   ]
  },
  {
   "cell_type": "code",
   "execution_count": 15,
   "metadata": {},
   "outputs": [],
   "source": [
    "title_dub_dF = dublications(dF, 'new_title')\n",
    "name_dub_dF = dublications(dF, 'name')"
   ]
  },
  {
   "cell_type": "markdown",
   "metadata": {},
   "source": [
    "### Make list of homonyms"
   ]
  },
  {
   "cell_type": "code",
   "execution_count": 16,
   "metadata": {},
   "outputs": [],
   "source": [
    "def homonyms(dF, col):\n",
    "    h_list = []\n",
    "    homonyms = []\n",
    "    homonym = dF.iloc[0][col]\n",
    "    for i in range(len(dF)):\n",
    "        if dF.iloc[i][col] == homonym:\n",
    "            homonyms.append(dF.iloc[i]['title'])\n",
    "        else:\n",
    "            h_list.append(homonyms)\n",
    "            homonyms = [dF.iloc[i]['title']]\n",
    "            homonym = dF.iloc[i][col]\n",
    "    h_list.append(homonyms)\n",
    "    \n",
    "    return h_list "
   ]
  },
  {
   "cell_type": "code",
   "execution_count": 17,
   "metadata": {},
   "outputs": [],
   "source": [
    "title_homonomys = homonyms(title_dub_dF, 'new_title')\n",
    "name_homonomys = homonyms(name_dub_dF, 'name')"
   ]
  },
  {
   "cell_type": "code",
   "execution_count": 18,
   "metadata": {},
   "outputs": [],
   "source": [
    "filearray_titles = np.array(title_homonomys, dtype = \"object\")\n",
    "np.save('title_homonomys.npy', filearray_titles)\n",
    "\n",
    "filearray_names = np.array(name_homonomys, dtype = \"object\")\n",
    "np.save('name_homonomys.npy', filearray_names)"
   ]
  },
  {
   "cell_type": "markdown",
   "metadata": {},
   "source": [
    "### Load homonyms lists (+ example)"
   ]
  },
  {
   "cell_type": "code",
   "execution_count": 20,
   "metadata": {},
   "outputs": [],
   "source": [
    "title_h = np.load('title_homonomys.npy', allow_pickle=True)\n",
    "name_h = np.load('name_homonomys.npy', allow_pickle=True)"
   ]
  },
  {
   "cell_type": "code",
   "execution_count": 21,
   "metadata": {},
   "outputs": [
    {
     "name": "stdout",
     "output_type": "stream",
     "text": [
      "['Adama Traoré', 'Adama Traoré (aeb16e2)']\n",
      "['Adamiste (bois de sciage)', 'Adamiste (propriétaire, Strasbourg)', 'Adamiste (propriétaire, Saint-Denis)', 'Adamiste (propriétaire)', 'Adamiste (menuisier en bâtiments)', 'Adamiste (bois de sciage, boul. de Sébastopol)', 'Adamiste (bois de sciage, boul. de Strasbourg)', 'Adamiste (Vve)', 'Adamiste (Vve) (propriétaire, 53 boulevard Strasbourg)', 'Adamiste (Vve) (propriét, 53 boulevard de Strasbourg)', \"Adamiste (Page d'homonymie)\", 'Adamiste']\n",
      "['Adamiste (Vve) - propriétaire', 'Adamiste (Vre) - propriétaire', 'Adamiste (vve) - propriétaire', 'Adamiste (yve) - propriétaire', 'Adamiste (Yve) - propriétaire']\n",
      "['Adams (F.)', 'Adams (Joseph)', 'T. S. Adams']\n",
      "['Adams (Mme) - café-brasserie', 'Adams (Mime) - café-brasserie']\n"
     ]
    }
   ],
   "source": [
    "for i in range(500,505):\n",
    "    print(title_h[i])"
   ]
  },
  {
   "cell_type": "code",
   "execution_count": 23,
   "metadata": {},
   "outputs": [
    {
     "name": "stdout",
     "output_type": "stream",
     "text": [
      "['Alain Michel', 'Alain Michel (e9ebcd9)', 'Alain-René Michel']\n",
      "['Alain Milon', 'Alain Milon (69e719e)']\n",
      "['Alain Monnier', 'Alain Monnier (0d12356)']\n",
      "['Alain Moreau (6008888)', 'Alain Moreau (a45968b)', 'Alain Moreau (5f78cb2)', 'Alain Moreau', 'Alain Moreau (47a6236)']\n",
      "['Alain Morel', 'Alain Morel (5b11e32)', 'Alain Morel (88a48cf)', 'Alain Morel (f11f49d)']\n"
     ]
    }
   ],
   "source": [
    "for i in range(1000,1005):\n",
    "    print(name_h[i])"
   ]
  },
  {
   "cell_type": "code",
   "execution_count": null,
   "metadata": {},
   "outputs": [],
   "source": []
  }
 ],
 "metadata": {
  "kernelspec": {
   "display_name": "Python 3",
   "language": "python",
   "name": "python3"
  },
  "language_info": {
   "codemirror_mode": {
    "name": "ipython",
    "version": 3
   },
   "file_extension": ".py",
   "mimetype": "text/x-python",
   "name": "python",
   "nbconvert_exporter": "python",
   "pygments_lexer": "ipython3",
   "version": "3.7.0"
  }
 },
 "nbformat": 4,
 "nbformat_minor": 4
}
